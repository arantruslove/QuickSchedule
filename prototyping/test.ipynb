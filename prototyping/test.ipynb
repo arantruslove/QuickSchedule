{
 "cells": [
  {
   "cell_type": "markdown",
   "metadata": {},
   "source": [
    "## Pulp Scheduling\n"
   ]
  },
  {
   "cell_type": "code",
   "execution_count": 6,
   "metadata": {},
   "outputs": [],
   "source": [
    "from dataclasses import dataclass\n",
    "from typing import Tuple, List\n",
    "import pulp"
   ]
  },
  {
   "cell_type": "markdown",
   "metadata": {},
   "source": [
    "### Classes"
   ]
  },
  {
   "cell_type": "code",
   "execution_count": 7,
   "metadata": {},
   "outputs": [],
   "source": [
    "@dataclass\n",
    "class Topic:\n",
    "    name: str\n",
    "    hours: float\n",
    "\n",
    "\n",
    "@dataclass\n",
    "class Course:\n",
    "    name: str\n",
    "    topics: List[Topic]\n",
    "    final_day: int\n",
    "    relative_proportion: float\n",
    "\n",
    "\n",
    "class StudySpec:\n",
    "    def __init__(self, courses: Tuple[Course], hours_per_day: List):\n",
    "        self.validate_courses(courses, hours_per_day)\n",
    "        self.courses = courses\n",
    "        self.hours_per_day = hours_per_day\n",
    "\n",
    "    def validate_courses(\n",
    "        self, courses: Tuple[Course], hours_per_day: List[float]\n",
    "    ) -> None:\n",
    "        total_proportion = 0\n",
    "        n_days = len(hours_per_day)\n",
    "\n",
    "        for course in courses:\n",
    "            total_proportion += course.relative_proportion\n",
    "\n",
    "            if course.final_day > n_days:\n",
    "                raise ValueError(\n",
    "                    f\"The final day of {course.name} ({course.final_day}) \"\n",
    "                    f\"is outside the number of days ({n_days}).\"\n",
    "                )\n",
    "\n",
    "        if total_proportion != 1:\n",
    "            raise ValueError(\n",
    "                f\"Relative proportion did not sum to 1 ({total_proportion})\"\n",
    "            )\n",
    "\n",
    "    def rescale(self):\n",
    "        study_hours = sum(self.hours_per_day)\n",
    "\n",
    "        for i, course in enumerate(self.courses):\n",
    "            course_target_hours = course.relative_proportion * study_hours\n",
    "            rescaling_factor = course_target_hours / self.get_course_hours(i)\n",
    "\n",
    "            # Rescale the associated topics\n",
    "            self.scale_topic_hours(i, rescaling_factor)\n",
    "\n",
    "        # return rescaling_factors\n",
    "\n",
    "    def get_course_hours(self, index: int) -> float:\n",
    "        total_hours = 0\n",
    "        topics = self.courses[index].topics\n",
    "\n",
    "        for topic in topics:\n",
    "            total_hours += topic.hours\n",
    "\n",
    "        return total_hours\n",
    "\n",
    "    def scale_topic_hours(self, index: int, factor: float) -> None:\n",
    "        topics = self.courses[index].topics\n",
    "\n",
    "        for topic in topics:\n",
    "            topic.hours *= factor\n",
    "            topic.hours = round(2 * topic.hours) / 2 # Round to the nearest 0.5"
   ]
  },
  {
   "cell_type": "markdown",
   "metadata": {},
   "source": [
    "### Functions"
   ]
  },
  {
   "cell_type": "code",
   "execution_count": null,
   "metadata": {},
   "outputs": [],
   "source": []
  },
  {
   "cell_type": "markdown",
   "metadata": {},
   "source": [
    "### Data Types"
   ]
  },
  {
   "cell_type": "code",
   "execution_count": 24,
   "metadata": {},
   "outputs": [],
   "source": [
    "# Inputs\n",
    "# 1)\n",
    "\n",
    "# Maths\n",
    "linear_algebra = Topic(\"Linear Algebra\", 1)\n",
    "geometry = Topic(\"Geometry\", 2)\n",
    "differential_equations = Topic(\"Differential Equations\", 4)\n",
    "maths = Course(\"Maths\", [linear_algebra, geometry, differential_equations], 3, 0.3)\n",
    "\n",
    "# Physics\n",
    "o_and_w = Topic(\"Oscillations and Waves\", 3)\n",
    "mechanics = Topic(\"Mechanics\", 3)\n",
    "quantum_physics = Topic(\"Quantum Physics\", 4)\n",
    "\n",
    "physics = Course(\"Physics\", [o_and_w, mechanics, quantum_physics], 5, 0.7)\n",
    "\n",
    "# Creating the schedule\n",
    "course_list = (maths, physics)\n",
    "hours_per_day = [2, 3, 3, 0, 4, 3] # Total = 17\n",
    "study_schedule = StudySpec(course_list, hours_per_day)\n",
    "\n",
    "# 2)\n",
    "# Output\n",
    "topics_per_day = [\n",
    "    [(\"Linear Algebra\", 1), (\"Geometry\", 1)],\n",
    "    [(\"Geometry\", 1), (\"Differential Equations\", 2)],\n",
    "    [(\"Oscillations and Waves\", 3)],\n",
    "    [(\"Differential Equations\", 2)],\n",
    "    [(\"Mechanics\", 3)],\n",
    "    [(\"Quantum Physics\", 4)],\n",
    "]"
   ]
  },
  {
   "cell_type": "code",
   "execution_count": 25,
   "metadata": {},
   "outputs": [
    {
     "name": "stdout",
     "output_type": "stream",
     "text": [
      "None\n"
     ]
    }
   ],
   "source": [
    "print(study_schedule.rescale())"
   ]
  },
  {
   "cell_type": "code",
   "execution_count": 26,
   "metadata": {},
   "outputs": [
    {
     "name": "stdout",
     "output_type": "stream",
     "text": [
      "(Course(name='Maths', topics=[Topic(name='Linear Algebra', hours=0.5), Topic(name='Geometry', hours=1.5), Topic(name='Differential Equations', hours=2.5)], final_day=3, relative_proportion=0.3), Course(name='Physics', topics=[Topic(name='Oscillations and Waves', hours=3.0), Topic(name='Mechanics', hours=3.0), Topic(name='Quantum Physics', hours=4.0)], final_day=5, relative_proportion=0.7))\n"
     ]
    }
   ],
   "source": [
    "print(study_schedule.courses)"
   ]
  },
  {
   "cell_type": "code",
   "execution_count": 27,
   "metadata": {},
   "outputs": [
    {
     "name": "stdout",
     "output_type": "stream",
     "text": [
      "4.5\n",
      "10.0\n"
     ]
    }
   ],
   "source": [
    "print(study_schedule.get_course_hours(0))\n",
    "print(study_schedule.get_course_hours(1))"
   ]
  }
 ],
 "metadata": {
  "kernelspec": {
   "display_name": "env_site",
   "language": "python",
   "name": "python3"
  },
  "language_info": {
   "codemirror_mode": {
    "name": "ipython",
    "version": 3
   },
   "file_extension": ".py",
   "mimetype": "text/x-python",
   "name": "python",
   "nbconvert_exporter": "python",
   "pygments_lexer": "ipython3",
   "version": "3.11.5"
  }
 },
 "nbformat": 4,
 "nbformat_minor": 2
}
