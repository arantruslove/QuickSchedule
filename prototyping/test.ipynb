{
 "cells": [
  {
   "cell_type": "markdown",
   "metadata": {},
   "source": [
    "## OR Tools Scheduling\n"
   ]
  },
  {
   "cell_type": "code",
   "execution_count": 2,
   "metadata": {},
   "outputs": [],
   "source": [
    "from ortools.sat.python import cp_model"
   ]
  },
  {
   "cell_type": "markdown",
   "metadata": {},
   "source": [
    "### Simple Test\n"
   ]
  },
  {
   "cell_type": "code",
   "execution_count": 13,
   "metadata": {},
   "outputs": [
    {
     "name": "stdout",
     "output_type": "stream",
     "text": [
      "0.0\n",
      "0\n",
      "0\n"
     ]
    }
   ],
   "source": [
    "model = cp_model.CpModel()\n",
    "x1 = model.new_int_var(0, 5, \"x1\")\n",
    "x2 = model.new_int_var(0, 6, \"x2\")\n",
    "\n",
    "model.maximize(0)\n",
    "\n",
    "# Create the solver\n",
    "solver = cp_model.CpSolver()\n",
    "\n",
    "# Solve the model\n",
    "status = solver.Solve(model)\n",
    "\n",
    "print(solver.objective_value)\n",
    "print(solver.value(x1))\n",
    "print(solver.value(x2))"
   ]
  },
  {
   "cell_type": "markdown",
   "metadata": {},
   "source": [
    "### Week Problem"
   ]
  },
  {
   "cell_type": "code",
   "execution_count": 44,
   "metadata": {},
   "outputs": [
    {
     "name": "stdout",
     "output_type": "stream",
     "text": [
      "Solution found:\n",
      "Maths is scheduled on day 0\n",
      "Physics is scheduled on day 0\n",
      "Chemistry is scheduled on day 1\n",
      "Biology is scheduled on day 1\n",
      "English is scheduled on day 2\n",
      "Further Maths is scheduled on day 2\n",
      "\n",
      "Maths_on_day_0: 1\n",
      "Physics_on_day_0: 1\n",
      "Chemistry_on_day_0: 0\n",
      "Biology_on_day_0: 0\n",
      "English_on_day_0: 0\n",
      "Further Maths_on_day_0: 0\n",
      "Maths_on_day_1: 0\n",
      "Physics_on_day_1: 0\n",
      "Chemistry_on_day_1: 1\n",
      "Biology_on_day_1: 1\n",
      "English_on_day_1: 0\n",
      "Further Maths_on_day_1: 0\n",
      "Maths_on_day_2: 0\n",
      "Physics_on_day_2: 0\n",
      "Chemistry_on_day_2: 0\n",
      "Biology_on_day_2: 0\n",
      "English_on_day_2: 1\n",
      "Further Maths_on_day_2: 1\n"
     ]
    }
   ],
   "source": [
    "# Define the problem\n",
    "model = cp_model.CpModel()\n",
    "topics_per_day_target = [2, 2, 2]\n",
    "n_days = len(topics_per_day_target)\n",
    "topics_to_days = {\n",
    "    \"Maths\": model.new_int_var(0, n_days - 1, \"Maths\"),\n",
    "    \"Physics\": model.new_int_var(0, n_days - 1, \"Physics\"),\n",
    "    \"Chemistry\": model.new_int_var(0, n_days - 1, \"Chemistry\"),\n",
    "    \"Biology\": model.new_int_var(0, n_days - 1, \"Biology\"),\n",
    "    \"English\": model.new_int_var(0, n_days - 1, \"English\"),\n",
    "    \"Further Maths\": model.new_int_var(0, n_days - 1, \"Further Maths\"),\n",
    "}\n",
    "\n",
    "# Adding indicators to check if a topic is on a specific day\n",
    "indicators = [\n",
    "    {\n",
    "        topic_title: model.new_bool_var(f\"{topic_title}_on_day_{day}\")\n",
    "        for topic_title in topics_to_days.keys()\n",
    "    }\n",
    "    for day in range(len(topics_per_day_target))\n",
    "]\n",
    "\n",
    "for day_num in range(len(indicators)):\n",
    "    for topic_title, indicator in indicators[day_num].items():\n",
    "        model.add(topics_to_days[topic_title] == day_num).only_enforce_if(indicator)\n",
    "        model.add(topics_to_days[topic_title] != day_num).only_enforce_if(indicator.Not())\n",
    "\n",
    "# Constraining such that the number of topics on each day matches the target\n",
    "for day_indicators, n_topics in zip(indicators, topics_per_day_target):\n",
    "    model.add(sum(day_indicators.values()) == n_topics)\n",
    "\n",
    "# Define binary indicator variables\n",
    "model.maximize(0)  # Dummy constraint\n",
    "\n",
    "# Constraining the order of topics\n",
    "model.add(topics_to_days[\"Maths\"] <= topics_to_days[\"Physics\"])\n",
    "model.add(topics_to_days[\"Physics\"] <= topics_to_days[\"Chemistry\"])\n",
    "model.add(topics_to_days[\"Chemistry\"] <= topics_to_days[\"Biology\"])\n",
    "model.add(topics_to_days[\"Biology\"] <= topics_to_days[\"English\"])\n",
    "model.add(topics_to_days[\"English\"] <= topics_to_days[\"Further Maths\"])\n",
    "\n",
    "\n",
    "solver = cp_model.CpSolver()\n",
    "status = solver.Solve(model)\n",
    "\n",
    "# Print the results\n",
    "if status == cp_model.OPTIMAL or status == cp_model.FEASIBLE:\n",
    "    print(\"Solution found:\")\n",
    "    for topic, var in topics_to_days.items():\n",
    "        print(f\"{topic} is scheduled on day {solver.value(var)}\")\n",
    "\n",
    "    print(\"\")\n",
    "    for day_num in range(len(indicators)):\n",
    "        for topic_title, indicator in indicators[day_num].items():\n",
    "            print(f\"{indicator}: {solver.value(indicator)}\")\n",
    "else:\n",
    "    print(\"No solution found.\")"
   ]
  }
 ],
 "metadata": {
  "kernelspec": {
   "display_name": "env_site",
   "language": "python",
   "name": "python3"
  },
  "language_info": {
   "codemirror_mode": {
    "name": "ipython",
    "version": 3
   },
   "file_extension": ".py",
   "mimetype": "text/x-python",
   "name": "python",
   "nbconvert_exporter": "python",
   "pygments_lexer": "ipython3",
   "version": "3.11.5"
  }
 },
 "nbformat": 4,
 "nbformat_minor": 2
}
