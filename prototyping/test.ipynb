{
 "cells": [
  {
   "cell_type": "markdown",
   "metadata": {},
   "source": [
    "## Pulp Scheduling\n"
   ]
  },
  {
   "cell_type": "code",
   "execution_count": 83,
   "metadata": {},
   "outputs": [],
   "source": [
    "from dataclasses import dataclass\n",
    "from typing import Tuple, List\n",
    "import pulp"
   ]
  },
  {
   "cell_type": "markdown",
   "metadata": {},
   "source": [
    "### Classes\n"
   ]
  },
  {
   "cell_type": "code",
   "execution_count": 84,
   "metadata": {},
   "outputs": [],
   "source": [
    "@dataclass(frozen=True)\n",
    "class Topic:\n",
    "    name: str\n",
    "    hours: float\n",
    "\n",
    "\n",
    "@dataclass(frozen=True)\n",
    "class Course:\n",
    "    name: str\n",
    "    topics: List[Topic]\n",
    "    final_day: int\n",
    "    relative_proportion: float\n",
    "\n",
    "    def total_hours(self) -> float:\n",
    "        \"\"\"Sum of all the hours from each topic.\"\"\"\n",
    "        total = 0\n",
    "        for topic in self.topics:\n",
    "            total += topic.hours\n",
    "        return total"
   ]
  },
  {
   "cell_type": "markdown",
   "metadata": {},
   "source": [
    "### Functions\n"
   ]
  },
  {
   "cell_type": "code",
   "execution_count": 85,
   "metadata": {},
   "outputs": [],
   "source": [
    "def validate_courses(courses: Tuple[Course], hours_per_day: List[float]) -> None:\n",
    "    total_proportion = 0\n",
    "    n_days = len(hours_per_day)\n",
    "\n",
    "    for course in courses:\n",
    "        total_proportion += course.relative_proportion\n",
    "\n",
    "        if course.final_day > n_days:\n",
    "            raise ValueError(\n",
    "                f\"The final day of {course.name} ({course.final_day}) \"\n",
    "                f\"is outside the number of days ({n_days}).\"\n",
    "            )\n",
    "\n",
    "    if total_proportion != 1:\n",
    "        raise ValueError(f\"Relative proportion did not sum to 1 ({total_proportion})\")\n",
    "\n",
    "\n",
    "def perform_course_scale(course:Course, factor: float) -> List[Course]:\n",
    "    topics = course.topics\n",
    "\n",
    "    scaled_topics = []\n",
    "    for topic in topics:\n",
    "        scaled_hours = topic.hours*factor\n",
    "        rounded_hours = round(2 * scaled_hours) / 2\n",
    "        scaled_topic = Topic(topic.name, rounded_hours)\n",
    "        scaled_topics.append(scaled_topic)\n",
    "    \n",
    "    scaled_course = Course(course.name, scaled_topics, course.final_day, course.relative_proportion)\n",
    "    return scaled_course\n",
    "    \n",
    "        "
   ]
  },
  {
   "cell_type": "markdown",
   "metadata": {},
   "source": [
    "### Testing\n"
   ]
  },
  {
   "cell_type": "code",
   "execution_count": 97,
   "metadata": {},
   "outputs": [
    {
     "name": "stdout",
     "output_type": "stream",
     "text": [
      "5.0 12.0\n"
     ]
    }
   ],
   "source": [
    "# Inputs\n",
    "# 1)\n",
    "\n",
    "# Maths\n",
    "linear_algebra = Topic(\"Linear Algebra\", 1)\n",
    "geometry = Topic(\"Geometry\", 2)\n",
    "differential_equations = Topic(\"Differential Equations\", 4)\n",
    "maths = Course(\"Maths\", [linear_algebra, geometry, differential_equations], 3, 0.3)\n",
    "\n",
    "# Physics\n",
    "o_and_w = Topic(\"Oscillations and Waves\", 3)\n",
    "mechanics = Topic(\"Mechanics\", 3)\n",
    "quantum_physics = Topic(\"Quantum Physics\", 4)\n",
    "\n",
    "physics = Course(\"Physics\", [o_and_w, mechanics, quantum_physics], 5, 0.7)\n",
    "\n",
    "# Creating the schedule\n",
    "courses = (maths, physics)\n",
    "hours_per_day = [2, 3, 3, 2, 4, 3]  # Total = 17\n",
    "\n",
    "\n",
    "# Testing functionality\n",
    "def scale_courses(courses: List[Course], hours_per_day: List[int]) -> List[Course]:\n",
    "    validate_courses(courses, hours_per_day)\n",
    "    # Determine the factor needed to scale each course by to fit the total study hours\n",
    "    # allocated\n",
    "    total_study_hours = sum(hours_per_day)\n",
    "    rescaling_factors = []\n",
    "    for course in courses:\n",
    "        scaled_hours = course.relative_proportion * total_study_hours\n",
    "        rescaling_factor = scaled_hours / course.total_hours()\n",
    "        rescaling_factors.append(rescaling_factor)\n",
    "\n",
    "    # Performing the rescale\n",
    "    rescaled_courses = []\n",
    "    for course, rescaling_factor in zip(courses, rescaling_factors):\n",
    "        rescaled_course = perform_course_scale(course, rescaling_factor)\n",
    "        rescaled_courses.append(rescaled_course)\n",
    "        \n",
    "    return rescaled_courses\n",
    "\n",
    "\n",
    "scaled_courses = scale_courses(courses, hours_per_day)\n",
    "\n",
    "print(scaled_courses[0].total_hours(), scaled_courses[1].total_hours())"
   ]
  }
 ],
 "metadata": {
  "kernelspec": {
   "display_name": "env_site",
   "language": "python",
   "name": "python3"
  },
  "language_info": {
   "codemirror_mode": {
    "name": "ipython",
    "version": 3
   },
   "file_extension": ".py",
   "mimetype": "text/x-python",
   "name": "python",
   "nbconvert_exporter": "python",
   "pygments_lexer": "ipython3",
   "version": "3.11.5"
  }
 },
 "nbformat": 4,
 "nbformat_minor": 2
}
