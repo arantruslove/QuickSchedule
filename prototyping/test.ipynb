{
 "cells": [
  {
   "cell_type": "markdown",
   "metadata": {},
   "source": [
    "## Pulp Scheduling\n"
   ]
  },
  {
   "cell_type": "code",
   "execution_count": 56,
   "metadata": {},
   "outputs": [],
   "source": [
    "from dataclasses import dataclass\n",
    "from copy import deepcopy\n",
    "from typing import Tuple, List\n",
    "import pulp"
   ]
  },
  {
   "cell_type": "markdown",
   "metadata": {},
   "source": [
    "### Classes\n"
   ]
  },
  {
   "cell_type": "code",
   "execution_count": 57,
   "metadata": {},
   "outputs": [],
   "source": [
    "@dataclass\n",
    "class Topic:\n",
    "    name: str\n",
    "    hours: float\n",
    "\n",
    "\n",
    "@dataclass\n",
    "class Course:\n",
    "    name: str\n",
    "    topics: List[Topic]\n",
    "    final_day: int\n",
    "    relative_proportion: float\n",
    "\n",
    "    def total_hours(self) -> float:\n",
    "        \"\"\"Sum of all the hours from each topic.\"\"\"\n",
    "        total = 0\n",
    "        for topic in self.topics:\n",
    "            total += topic.hours\n",
    "        return total"
   ]
  },
  {
   "cell_type": "markdown",
   "metadata": {},
   "source": [
    "### Functions\n"
   ]
  },
  {
   "cell_type": "code",
   "execution_count": 58,
   "metadata": {},
   "outputs": [],
   "source": [
    "def validate_courses(courses: Tuple[Course], hours_per_day: List[float]) -> None:\n",
    "    total_proportion = 0\n",
    "    n_days = len(hours_per_day)\n",
    "\n",
    "    for course in courses:\n",
    "        total_proportion += course.relative_proportion\n",
    "\n",
    "        if course.final_day > n_days:\n",
    "            raise ValueError(\n",
    "                f\"The final day of {course.name} ({course.final_day}) \"\n",
    "                f\"is outside the number of days ({n_days}).\"\n",
    "            )\n",
    "\n",
    "    if total_proportion != 1:\n",
    "        raise ValueError(f\"Relative proportion did not sum to 1 ({total_proportion})\")\n",
    "\n",
    "\n",
    "def perform_course_scale(course:Course, factor: float) -> Course:\n",
    "    topics = course.topics\n",
    "\n",
    "    scaled_topics = []\n",
    "    for topic in topics:\n",
    "        scaled_hours = topic.hours*factor\n",
    "        rounded_hours = round(2 * scaled_hours) / 2\n",
    "        scaled_topic = Topic(topic.name, rounded_hours)\n",
    "        scaled_topics.append(scaled_topic)\n",
    "    \n",
    "    scaled_course = Course(course.name, scaled_topics, course.final_day, course.relative_proportion)\n",
    "    return scaled_course\n",
    "\n",
    "def enforce_hours(course:Course, required_hours: float) -> Course:\n",
    "    matched_course = deepcopy(course)\n",
    "    topics = matched_course.topics\n",
    "    current_hours = matched_course.total_hours()\n",
    "\n",
    "    i = 0\n",
    "    while not (required_hours - 0.25 < current_hours < required_hours + 0.25):\n",
    "        index = i % len(topics)\n",
    "        if current_hours < required_hours:\n",
    "            topics[index].hours += 0.5 # Increase by 30 minutes if less than required\n",
    "        else:\n",
    "            topics[index].hours -= 0.5 # Decrease by 30 minutes if greater than required\n",
    "\n",
    "        current_hours = matched_course.total_hours()\n",
    "        i += 1\n",
    "\n",
    "    return matched_course\n",
    "    \n",
    "        "
   ]
  },
  {
   "cell_type": "markdown",
   "metadata": {},
   "source": [
    "### Testing\n"
   ]
  },
  {
   "cell_type": "code",
   "execution_count": 60,
   "metadata": {},
   "outputs": [
    {
     "name": "stdout",
     "output_type": "stream",
     "text": [
      "[Course(name='Maths', topics=[Topic(name='Linear Algebra', hours=4.5), Topic(name='Geometry', hours=8.5), Topic(name='Differential Equations', hours=17.0)], final_day=3, relative_proportion=0.3), Course(name='Physics', topics=[Topic(name='Oscillations and Waves', hours=21.0), Topic(name='Mechanics', hours=21.0), Topic(name='Quantum Physics', hours=28.0)], final_day=5, relative_proportion=0.7)]\n",
      "30.0 70.0\n"
     ]
    }
   ],
   "source": [
    "# Inputs\n",
    "# 1)\n",
    "\n",
    "# Maths\n",
    "linear_algebra = Topic(\"Linear Algebra\", 1)\n",
    "geometry = Topic(\"Geometry\", 2)\n",
    "differential_equations = Topic(\"Differential Equations\", 4)\n",
    "maths = Course(\"Maths\", [linear_algebra, geometry, differential_equations], 3, 0.3)\n",
    "\n",
    "# Physics\n",
    "o_and_w = Topic(\"Oscillations and Waves\", 3)\n",
    "mechanics = Topic(\"Mechanics\", 3)\n",
    "quantum_physics = Topic(\"Quantum Physics\", 4)\n",
    "\n",
    "physics = Course(\"Physics\", [o_and_w, mechanics, quantum_physics], 5, 0.7)\n",
    "\n",
    "# Creating the schedule\n",
    "courses = (maths, physics)\n",
    "hours_per_day = [2, 3, 3, 2, 4, 3]  # Total = 17\n",
    "\n",
    "\n",
    "# Testing functionality\n",
    "def scale_courses(courses: List[Course], hours_per_day: List[int]) -> List[Course]:\n",
    "    validate_courses(courses, hours_per_day)\n",
    "    # Determining the number of hours required for each course for this schedule\n",
    "    total_study_hours = sum(hours_per_day)\n",
    "    hours_split = []\n",
    "    for i in range(len(courses)-1):\n",
    "        course = courses[i]\n",
    "        hours_to_study = round(course.relative_proportion * total_study_hours)\n",
    "        hours_split.append(hours_to_study)\n",
    "    \n",
    "    # Adding the remaining time\n",
    "    hours_to_study = round(total_study_hours - sum(hours_split))\n",
    "    hours_split.append(hours_to_study)\n",
    "\n",
    "    # Performing the rescale\n",
    "    rescaled_courses = []\n",
    "    for course, hours_to_study in zip(courses, hours_split):\n",
    "        rescaling_factor = hours_to_study / course.total_hours()\n",
    "        rescaled_course = perform_course_scale(course, rescaling_factor)\n",
    "        rescaled_courses.append(rescaled_course)\n",
    "\n",
    "    # Enforcing that the number of hours in each course matches the scaled hours\n",
    "    enforced_courses = []\n",
    "    for rescaled_course, hours_to_study in zip(rescaled_courses, hours_split):\n",
    "        enforced_course = enforce_hours(rescaled_course, hours_to_study)\n",
    "        enforced_courses.append(enforced_course)\n",
    "\n",
    "\n",
    "    return enforced_courses\n",
    "\n",
    "\n",
    "scaled_courses = scale_courses(courses, hours_per_day)\n",
    "\n",
    "print(scaled_courses)\n",
    "\n",
    "print(scaled_courses[0].total_hours(), scaled_courses[1].total_hours())"
   ]
  }
 ],
 "metadata": {
  "kernelspec": {
   "display_name": "env_site",
   "language": "python",
   "name": "python3"
  },
  "language_info": {
   "codemirror_mode": {
    "name": "ipython",
    "version": 3
   },
   "file_extension": ".py",
   "mimetype": "text/x-python",
   "name": "python",
   "nbconvert_exporter": "python",
   "pygments_lexer": "ipython3",
   "version": "3.11.5"
  }
 },
 "nbformat": 4,
 "nbformat_minor": 2
}
